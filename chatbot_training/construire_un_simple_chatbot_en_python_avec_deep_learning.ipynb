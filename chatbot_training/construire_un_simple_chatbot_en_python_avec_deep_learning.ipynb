{
 "cells": [
  {
   "cell_type": "code",
   "execution_count": 20,
   "metadata": {
    "id": "7dtL69p5SO4N"
   },
   "outputs": [],
   "source": [
    "# utilisation d'un dictionnaire pour représenter un fichier JSON d'intentions\n",
    "\"\"\"\n",
    "data = {\"intents\": [\n",
    "             {\"tag\": \"greeting\",\n",
    "              \"patterns\": [\"Hello\", \"La forme?\", \"yo\", \"Salut\", \"ça roule?\"],\n",
    "              \"responses\": [\"Salut à toi!\", \"Hello\", \"Comment vas tu?\", \"Salutations!\", \"Enchanté\"],\n",
    "             },\n",
    "             {\"tag\": \"age\",\n",
    "              \"patterns\": [\"Quel âge as-tu?\", \"C'est quand ton anniversaire?\", \"Quand es-tu né?\"],\n",
    "              \"responses\": [\"J'ai 25 ans\", \"Je suis né en 1996\", \"Ma date d'anniversaire est le 3 juillet et je suis né en 1996\", \"03/07/1996\"]\n",
    "             },\n",
    "             {\"tag\": \"date\",\n",
    "              \"patterns\": [\"Que fais-tu ce week-end?\",\n",
    "\"Tu veux qu'on fasse un truc ensemble?\", \"Quels sont tes plans pour cette semaine\"],\n",
    "              \"responses\": [\"Je suis libre toute la semaine\", \"Je n'ai rien de prévu\", \"Je ne suis pas occupé\"]\n",
    "             },\n",
    "             {\"tag\": \"name\",\n",
    "              \"patterns\": [\"Quel est ton prénom?\", \"Comment tu t'appelles?\", \"Qui es-tu?\"],\n",
    "              \"responses\": [\"Mon prénom est Miki\", \"Je suis Miki\", \"Miki\"]\n",
    "             },\n",
    "             {\"tag\": \"goodbye\",\n",
    "              \"patterns\": [ \"bye\", \"Salut\", \"see ya\", \"adios\", \"cya\"],\n",
    "              \"responses\": [\"C'était sympa de te parler\", \"à plus tard\", \"On se reparle très vite!\"]\n",
    "             }\n",
    "]}\n",
    "\"\"\""
   ]
  },
  {
   "cell_type": "code",
   "execution_count": 21,
   "metadata": {
    "colab": {
     "base_uri": "https://localhost:8080/"
    },
    "id": "nIXl5WrwSc-V",
    "outputId": "c1289341-0982-454c-8cf8-1ef73d561910"
   },
   "outputs": [
    {
     "name": "stdout",
     "output_type": "stream",
     "text": [
      "Requirement already satisfied: nltk in /workspace/.miniconda3/lib/python3.9/site-packages (3.7)\n",
      "Requirement already satisfied: regex>=2021.8.3 in /workspace/.miniconda3/lib/python3.9/site-packages (from nltk) (2022.9.13)\n",
      "Requirement already satisfied: click in /workspace/.miniconda3/lib/python3.9/site-packages (from nltk) (8.1.3)\n",
      "Requirement already satisfied: tqdm in /workspace/.miniconda3/lib/python3.9/site-packages (from nltk) (4.61.2)\n",
      "Requirement already satisfied: joblib in /workspace/.miniconda3/lib/python3.9/site-packages (from nltk) (1.2.0)\n"
     ]
    },
    {
     "name": "stderr",
     "output_type": "stream",
     "text": [
      "[nltk_data] Downloading package omw-1.4 to /workspace/nltk_data...\n",
      "[nltk_data]   Package omw-1.4 is already up-to-date!\n",
      "[nltk_data] Downloading package punkt to /workspace/nltk_data...\n",
      "[nltk_data]   Package punkt is already up-to-date!\n",
      "[nltk_data] Downloading package wordnet to /workspace/nltk_data...\n",
      "[nltk_data]   Package wordnet is already up-to-date!\n"
     ]
    },
    {
     "data": {
      "text/plain": [
       "True"
      ]
     },
     "execution_count": 21,
     "metadata": {},
     "output_type": "execute_result"
    }
   ],
   "source": [
    "import json\n",
    "import string\n",
    "import random \n",
    "import nltk\n",
    "import numpy as np\n",
    "from nltk.stem import WordNetLemmatizer \n",
    "import tensorflow as tf \n",
    "from tensorflow.keras import Sequential \n",
    "from tensorflow.keras.layers import Dense, Dropout\n",
    "nltk.download('omw-1.4')\n",
    "nltk.download(\"punkt\")\n",
    "nltk.download(\"wordnet\")"
   ]
  },
  {
   "cell_type": "code",
   "execution_count": 36,
   "metadata": {
    "id": "uJhMJVQ6ShZO"
   },
   "outputs": [],
   "source": [
    "#Import the data\n",
    "f=open(\"starwarsintents.json\")\n",
    "data=json.load(f)\n",
    "f.close()\n",
    "# initialisation de lemmatizer pour obtenir la racine des mots\n",
    "lemmatizer = WordNetLemmatizer()\n",
    "\n",
    "# création des listes\n",
    "words = []\n",
    "classes = []\n",
    "doc_X = []\n",
    "doc_y = []\n",
    "\n",
    "# parcourir avec une boucle For toutes les intentions\n",
    "# tokéniser chaque pattern et ajouter les tokens à la liste words, les patterns et\n",
    "# le tag associé à l'intention sont ajoutés aux listes correspondantes\n",
    "for intent in data[\"intents\"]:\n",
    "    for pattern in intent[\"patterns\"]:\n",
    "        tokens = nltk.word_tokenize(pattern)\n",
    "        words.extend(tokens)\n",
    "        doc_X.append(pattern)\n",
    "        doc_y.append(intent[\"tag\"])\n",
    "    \n",
    "    # ajouter le tag aux classes s'il n'est pas déjà là \n",
    "    if intent[\"tag\"] not in classes:\n",
    "        classes.append(intent[\"tag\"])\n",
    "\n",
    "# lemmatiser tous les mots du vocabulaire et les convertir en minuscule\n",
    "# si les mots n'apparaissent pas dans la ponctuation\n",
    "words = [lemmatizer.lemmatize(word.lower()) for word in words if word not in string.punctuation]\n",
    "\n",
    "# trier le vocabulaire et les classes par ordre alphabétique et prendre le\n",
    "# set pour s'assurer qu'il n'y a pas de doublons\n",
    "words = sorted(set(words))\n",
    "classes = sorted(set(classes))"
   ]
  },
  {
   "cell_type": "code",
   "execution_count": 37,
   "metadata": {
    "colab": {
     "base_uri": "https://localhost:8080/"
    },
    "id": "IBNA5qxwSnii",
    "outputId": "c46150ea-f9c0-4d70-b3cf-1e218dd076dd"
   },
   "outputs": [
    {
     "name": "stdout",
     "output_type": "stream",
     "text": [
      "[\"'s\", '10', 'a', 'ability', 'able', 'about', 'alive', 'am', 'amazing', 'any', 'anyone', 'are', 'aslan', 'assist', 'assistance', 'bar', 'be', 'best', 'bit', 'bounti', 'breathe', 'bye', 'can', 'care', 'catch', 'check', 'ciao', 'created', 'creator', 'daddy', 'day', 'detail', 'do', 'drink', 'else', 'father', 'feature', 'for', 'funny', 'galaxi', 'galaxy', 'good', 'goodbye', 'great', 'have', 'hello', 'help', 'helpful', 'hey', 'hi', 'hope', 'hounter', 'how', 'howdy', 'i', 'identify', 'in', 'is', 'it', 'item', 'jedi', 'joke', 'kind', 'know', 'later', 'let', 'looking', 'lot', 'me', 'meet', 'menu', 'mision', 'mission', 'mr.', 'my', 'myself', 'need', 'next', 'nice', 'now', 'of', 'on', 'one', 'partner', 'person', 'please', 'pleassure', 'profile', 'right', 'run', 'see', 'selection', 'serve', 'sing', 'sith', 'so', 'something', 'story', 'take', 'talk', 'tell', 'thank', 'thanks', 'that', 'the', 'there', 'this', 'time', 'tnx', 'to', 'today', 'top', 'trouble', 'up', 'wa', 'what', 'which', 'who', 'will', 'with', 'wow', 'ya', 'yo', 'you', 'your']\n"
     ]
    }
   ],
   "source": [
    "print(words)"
   ]
  },
  {
   "cell_type": "code",
   "execution_count": 38,
   "metadata": {
    "colab": {
     "base_uri": "https://localhost:8080/"
    },
    "id": "701jEXUuStkw",
    "outputId": "41ac97ee-fdcb-46fe-cd87-83499bc7468a"
   },
   "outputs": [
    {
     "name": "stdout",
     "output_type": "stream",
     "text": [
      "['Menu', 'about me', 'alive', 'bounti hounter', 'creator', 'funny', 'goodbye', 'greeting', 'hepl', 'jedi', 'mission', 'myself', 'sith', 'stories', 'tasks', 'thanks']\n"
     ]
    }
   ],
   "source": [
    "print(classes)"
   ]
  },
  {
   "cell_type": "code",
   "execution_count": 39,
   "metadata": {
    "colab": {
     "base_uri": "https://localhost:8080/"
    },
    "id": "3kKUEoKZS1Tx",
    "outputId": "47f98482-87d1-46cb-8d0d-fc3591052539"
   },
   "outputs": [
    {
     "name": "stdout",
     "output_type": "stream",
     "text": [
      "['Hi', 'Hey', 'How are you', 'Is anyone there?', 'Hello', 'Good day', \"What's up\", 'Yo!', 'Howdy', 'Nice to meet you.', 'Bye', 'See you later.', 'Goodbye', 'Have a great day.', 'See you next time.', 'It was my pleassure.', 'Take care.', 'See ya!', 'Catch you later.', 'Ciao.', 'Thanks', 'Thank you', \"That's helpful\", \"Thank's a lot!\", 'Tnx', 'Wow', 'Great!', 'Good!', 'That nice!', 'Amazing!', 'What can you do?', 'What are your features?', 'What are you abilities.', 'Can you sing.', 'Can you talk.', 'Are you alive.', 'Do you breathe.', 'Can you run.', 'Which items do you have in your bar?', 'What kinds of items are in you bar?', 'What do you serve?', 'What is in you menu?', 'I need a drink!', 'Do you serve drinks.', 'Menu please!', 'So what is in menu today?', 'Lets check your bar selection!', 'Bar menu for me please!', 'I am looking for help.', 'I need help.', 'Can you help me?', 'I am in trouble need a help.', 'I hope you right person who can help me?', 'Please help me.', 'Now I will need you help with something else.', 'I will need you help.', 'Are you able to help me.', 'PLease help me with something else.', 'I am on mission.', 'I need assistance in my mission.', 'I am looking for partner in mision?', 'Who can assist me with my mission?', 'Do you know any one who can assist me with my mission?', 'Tell me top 10 jedi?', 'Who is the best jedi in Galaxy?', 'I am looking for the best jedi in galaxi?', 'Which jedi can help me in this mission?', 'I need a help of jedi.', 'Tell me top 10 sith?', 'Who is the best sith in Galaxy?', 'I am looking for the best sith in galaxi.', 'Which sith can help me in this mission?', 'I need a help of sith.', 'Tell me top 10 bounti hounter?', 'Who is the bounti hounter sith in Galaxy?', 'I am looking for the best bounti hounter in galaxi.', 'Which bounti hounter can help me in this mission?', 'I need a help of bounti hounter.', 'Tell me a joke!', 'Can you be a bit funny', 'Tell me something funny!', 'Do you know a joke?', 'Any joke for me?', 'Do you know me?', 'Who am I', 'Tell me about myself', 'Identify me', 'Who is your creator?', 'Who created you', 'Who is your father.', 'Who is your daddy.', 'Tell me about Mr. ASLAN?', 'Who is Mr. ASLAN', 'Mr. ASLAN profile', 'Mr. ASLAN details.', 'Tell me a story?', 'Can you tell me a story.']\n"
     ]
    }
   ],
   "source": [
    "print(doc_X)"
   ]
  },
  {
   "cell_type": "code",
   "execution_count": 40,
   "metadata": {
    "colab": {
     "base_uri": "https://localhost:8080/"
    },
    "id": "4qY5u3OyS34t",
    "outputId": "f4f19f2e-0964-421b-c8f2-ff7fdf00820c"
   },
   "outputs": [
    {
     "name": "stdout",
     "output_type": "stream",
     "text": [
      "['greeting', 'greeting', 'greeting', 'greeting', 'greeting', 'greeting', 'greeting', 'greeting', 'greeting', 'greeting', 'goodbye', 'goodbye', 'goodbye', 'goodbye', 'goodbye', 'goodbye', 'goodbye', 'goodbye', 'goodbye', 'goodbye', 'thanks', 'thanks', 'thanks', 'thanks', 'thanks', 'thanks', 'thanks', 'thanks', 'thanks', 'thanks', 'tasks', 'tasks', 'tasks', 'tasks', 'tasks', 'alive', 'alive', 'alive', 'Menu', 'Menu', 'Menu', 'Menu', 'Menu', 'Menu', 'Menu', 'Menu', 'Menu', 'Menu', 'hepl', 'hepl', 'hepl', 'hepl', 'hepl', 'hepl', 'hepl', 'hepl', 'hepl', 'hepl', 'mission', 'mission', 'mission', 'mission', 'mission', 'jedi', 'jedi', 'jedi', 'jedi', 'jedi', 'sith', 'sith', 'sith', 'sith', 'sith', 'bounti hounter', 'bounti hounter', 'bounti hounter', 'bounti hounter', 'bounti hounter', 'funny', 'funny', 'funny', 'funny', 'funny', 'about me', 'about me', 'about me', 'about me', 'creator', 'creator', 'creator', 'creator', 'myself', 'myself', 'myself', 'myself', 'stories', 'stories']\n"
     ]
    }
   ],
   "source": [
    "print(doc_y)"
   ]
  },
  {
   "cell_type": "code",
   "execution_count": 41,
   "metadata": {
    "id": "t7WokoSoS6fR"
   },
   "outputs": [],
   "source": [
    "# liste pour les données d'entraînement\n",
    "training = []\n",
    "out_empty = [0] * len(classes)\n",
    "\n",
    "# création du modèle d'ensemble de mots\n",
    "for idx, doc in enumerate(doc_X):\n",
    "    bow = []\n",
    "    text = lemmatizer.lemmatize(doc.lower())\n",
    "    for word in words:\n",
    "        bow.append(1) if word in text else bow.append(0)\n",
    "\n",
    "    # marque l'index de la classe à laquelle le pattern atguel est associé à\n",
    "    output_row = list(out_empty)\n",
    "    output_row[classes.index(doc_y[idx])] = 1\n",
    "\n",
    "    # ajoute le one hot encoded BoW et les classes associées à la liste training\n",
    "    training.append([bow, output_row])\n",
    "\n",
    "# mélanger les données et les convertir en array\n",
    "random.shuffle(training)\n",
    "training = np.array(training, dtype=object)\n",
    "\n",
    "# séparer les features et les labels target\n",
    "train_X = np.array(list(training[:, 0]))\n",
    "train_y = np.array(list(training[:, 1]))"
   ]
  },
  {
   "cell_type": "code",
   "execution_count": 42,
   "metadata": {
    "id": "c-BsD9F7WJdr"
   },
   "outputs": [],
   "source": [
    "# définition de quelques paramètres\n",
    "input_shape = (len(train_X[0]),)\n",
    "output_shape = len(train_y[0])\n",
    "epochs = 200"
   ]
  },
  {
   "cell_type": "code",
   "execution_count": 43,
   "metadata": {
    "id": "bkp_It0nS-bd"
   },
   "outputs": [],
   "source": [
    "# modèle Deep Learning\n",
    "model = Sequential()\n",
    "model.add(Dense(128, input_shape=input_shape, activation=\"relu\"))\n",
    "model.add(Dropout(0.5))\n",
    "model.add(Dense(64, activation=\"relu\"))\n",
    "model.add(Dropout(0.3))\n",
    "model.add(Dense(output_shape, activation = \"softmax\"))\n",
    "\n",
    "adam = tf.keras.optimizers.Adam(learning_rate=0.01, decay=1e-6)\n",
    "model.compile(loss='categorical_crossentropy', optimizer=adam, metrics=[\"accuracy\"])"
   ]
  },
  {
   "cell_type": "code",
   "execution_count": 44,
   "metadata": {
    "colab": {
     "base_uri": "https://localhost:8080/"
    },
    "id": "pMJ3iJw6WTsC",
    "outputId": "3961bd2a-51af-45b5-fc6a-96c8119767a4"
   },
   "outputs": [
    {
     "name": "stdout",
     "output_type": "stream",
     "text": [
      "Model: \"sequential_2\"\n",
      "_________________________________________________________________\n",
      " Layer (type)                Output Shape              Param #   \n",
      "=================================================================\n",
      " dense_6 (Dense)             (None, 128)               16128     \n",
      "                                                                 \n",
      " dropout_4 (Dropout)         (None, 128)               0         \n",
      "                                                                 \n",
      " dense_7 (Dense)             (None, 64)                8256      \n",
      "                                                                 \n",
      " dropout_5 (Dropout)         (None, 64)                0         \n",
      "                                                                 \n",
      " dense_8 (Dense)             (None, 16)                1040      \n",
      "                                                                 \n",
      "=================================================================\n",
      "Total params: 25,424\n",
      "Trainable params: 25,424\n",
      "Non-trainable params: 0\n",
      "_________________________________________________________________\n",
      "None\n"
     ]
    }
   ],
   "source": [
    "print(model.summary())"
   ]
  },
  {
   "cell_type": "code",
   "execution_count": 45,
   "metadata": {
    "colab": {
     "base_uri": "https://localhost:8080/"
    },
    "id": "ttBcaaoeWUp-",
    "outputId": "21d1dfde-8b77-41a6-8f4a-fd4110f108f6"
   },
   "outputs": [
    {
     "name": "stdout",
     "output_type": "stream",
     "text": [
      "Epoch 1/200\n",
      "4/4 [==============================] - 1s 157ms/step - loss: 2.7863 - accuracy: 0.0619\n",
      "Epoch 2/200\n",
      "4/4 [==============================] - 0s 2ms/step - loss: 2.5228 - accuracy: 0.2371\n",
      "Epoch 3/200\n",
      "4/4 [==============================] - 0s 2ms/step - loss: 2.3111 - accuracy: 0.3196\n",
      "Epoch 4/200\n",
      "4/4 [==============================] - 0s 2ms/step - loss: 1.9717 - accuracy: 0.4330\n",
      "Epoch 5/200\n",
      "4/4 [==============================] - 0s 27ms/step - loss: 1.8546 - accuracy: 0.4536\n",
      "Epoch 6/200\n",
      "4/4 [==============================] - 0s 2ms/step - loss: 1.4098 - accuracy: 0.6186\n",
      "Epoch 7/200\n",
      "4/4 [==============================] - 0s 2ms/step - loss: 1.1519 - accuracy: 0.7526\n",
      "Epoch 8/200\n",
      "4/4 [==============================] - 0s 27ms/step - loss: 1.0282 - accuracy: 0.7010\n",
      "Epoch 9/200\n",
      "4/4 [==============================] - 0s 2ms/step - loss: 0.8877 - accuracy: 0.7216\n",
      "Epoch 10/200\n",
      "4/4 [==============================] - 0s 2ms/step - loss: 0.6832 - accuracy: 0.7835\n",
      "Epoch 11/200\n",
      "4/4 [==============================] - 0s 27ms/step - loss: 0.6911 - accuracy: 0.8144\n",
      "Epoch 12/200\n",
      "4/4 [==============================] - 0s 2ms/step - loss: 0.5160 - accuracy: 0.8557\n",
      "Epoch 13/200\n",
      "4/4 [==============================] - 0s 2ms/step - loss: 0.3640 - accuracy: 0.8763\n",
      "Epoch 14/200\n",
      "4/4 [==============================] - 0s 2ms/step - loss: 0.2596 - accuracy: 0.9588\n",
      "Epoch 15/200\n",
      "4/4 [==============================] - 0s 2ms/step - loss: 0.3293 - accuracy: 0.8866\n",
      "Epoch 16/200\n",
      "4/4 [==============================] - 0s 2ms/step - loss: 0.3513 - accuracy: 0.9175\n",
      "Epoch 17/200\n",
      "4/4 [==============================] - 0s 2ms/step - loss: 0.2784 - accuracy: 0.9175\n",
      "Epoch 18/200\n",
      "4/4 [==============================] - 0s 2ms/step - loss: 0.2133 - accuracy: 0.9485\n",
      "Epoch 19/200\n",
      "4/4 [==============================] - 0s 27ms/step - loss: 0.2142 - accuracy: 0.9381\n",
      "Epoch 20/200\n",
      "4/4 [==============================] - 0s 2ms/step - loss: 0.2719 - accuracy: 0.9072\n",
      "Epoch 21/200\n",
      "4/4 [==============================] - 0s 2ms/step - loss: 0.1471 - accuracy: 0.9485\n",
      "Epoch 22/200\n",
      "4/4 [==============================] - 0s 27ms/step - loss: 0.1532 - accuracy: 0.9485\n",
      "Epoch 23/200\n",
      "4/4 [==============================] - 0s 2ms/step - loss: 0.1739 - accuracy: 0.9485\n",
      "Epoch 24/200\n",
      "4/4 [==============================] - 0s 2ms/step - loss: 0.1287 - accuracy: 0.9897\n",
      "Epoch 25/200\n",
      "4/4 [==============================] - 0s 2ms/step - loss: 0.1430 - accuracy: 0.9588\n",
      "Epoch 26/200\n",
      "4/4 [==============================] - 0s 2ms/step - loss: 0.0717 - accuracy: 1.0000\n",
      "Epoch 27/200\n",
      "4/4 [==============================] - 0s 27ms/step - loss: 0.1996 - accuracy: 0.9278\n",
      "Epoch 28/200\n",
      "4/4 [==============================] - 0s 2ms/step - loss: 0.1030 - accuracy: 0.9794\n",
      "Epoch 29/200\n",
      "4/4 [==============================] - 0s 2ms/step - loss: 0.1306 - accuracy: 0.9588\n",
      "Epoch 30/200\n",
      "4/4 [==============================] - 0s 2ms/step - loss: 0.1359 - accuracy: 0.9381\n",
      "Epoch 31/200\n",
      "4/4 [==============================] - 0s 2ms/step - loss: 0.0840 - accuracy: 0.9691\n",
      "Epoch 32/200\n",
      "4/4 [==============================] - 0s 28ms/step - loss: 0.1075 - accuracy: 0.9691\n",
      "Epoch 33/200\n",
      "4/4 [==============================] - 0s 2ms/step - loss: 0.1147 - accuracy: 0.9485\n",
      "Epoch 34/200\n",
      "4/4 [==============================] - 0s 2ms/step - loss: 0.0997 - accuracy: 0.9588\n",
      "Epoch 35/200\n",
      "4/4 [==============================] - 0s 26ms/step - loss: 0.0762 - accuracy: 0.9794\n",
      "Epoch 36/200\n",
      "4/4 [==============================] - 0s 2ms/step - loss: 0.0465 - accuracy: 0.9897\n",
      "Epoch 37/200\n",
      "4/4 [==============================] - 0s 2ms/step - loss: 0.0959 - accuracy: 0.9794\n",
      "Epoch 38/200\n",
      "4/4 [==============================] - 0s 2ms/step - loss: 0.0777 - accuracy: 0.9691\n",
      "Epoch 39/200\n",
      "4/4 [==============================] - 0s 2ms/step - loss: 0.0709 - accuracy: 0.9794\n",
      "Epoch 40/200\n",
      "4/4 [==============================] - 0s 28ms/step - loss: 0.1100 - accuracy: 0.9485\n",
      "Epoch 41/200\n",
      "4/4 [==============================] - 0s 2ms/step - loss: 0.1227 - accuracy: 0.9485\n",
      "Epoch 42/200\n",
      "4/4 [==============================] - 0s 2ms/step - loss: 0.0628 - accuracy: 0.9897\n",
      "Epoch 43/200\n",
      "4/4 [==============================] - 0s 27ms/step - loss: 0.1051 - accuracy: 0.9691\n",
      "Epoch 44/200\n",
      "4/4 [==============================] - 0s 2ms/step - loss: 0.1497 - accuracy: 0.9485\n",
      "Epoch 45/200\n",
      "4/4 [==============================] - 0s 28ms/step - loss: 0.0998 - accuracy: 0.9691\n",
      "Epoch 46/200\n",
      "4/4 [==============================] - 0s 2ms/step - loss: 0.0994 - accuracy: 0.9588\n",
      "Epoch 47/200\n",
      "4/4 [==============================] - 0s 2ms/step - loss: 0.0438 - accuracy: 0.9897\n",
      "Epoch 48/200\n",
      "4/4 [==============================] - 0s 27ms/step - loss: 0.0455 - accuracy: 0.9897\n",
      "Epoch 49/200\n",
      "4/4 [==============================] - 0s 2ms/step - loss: 0.0764 - accuracy: 0.9588\n",
      "Epoch 50/200\n",
      "4/4 [==============================] - 0s 2ms/step - loss: 0.0622 - accuracy: 0.9588\n",
      "Epoch 51/200\n",
      "4/4 [==============================] - 0s 26ms/step - loss: 0.1322 - accuracy: 0.9794\n",
      "Epoch 52/200\n",
      "4/4 [==============================] - 0s 2ms/step - loss: 0.1048 - accuracy: 0.9588\n",
      "Epoch 53/200\n",
      "4/4 [==============================] - 0s 2ms/step - loss: 0.0937 - accuracy: 0.9691\n",
      "Epoch 54/200\n",
      "4/4 [==============================] - 0s 2ms/step - loss: 0.0401 - accuracy: 0.9794\n",
      "Epoch 55/200\n",
      "4/4 [==============================] - 0s 2ms/step - loss: 0.0248 - accuracy: 1.0000\n",
      "Epoch 56/200\n",
      "4/4 [==============================] - 0s 28ms/step - loss: 0.0328 - accuracy: 0.9897\n",
      "Epoch 57/200\n",
      "4/4 [==============================] - 0s 2ms/step - loss: 0.0623 - accuracy: 0.9794\n",
      "Epoch 58/200\n",
      "4/4 [==============================] - 0s 2ms/step - loss: 0.0538 - accuracy: 0.9794\n",
      "Epoch 59/200\n",
      "4/4 [==============================] - 0s 27ms/step - loss: 0.0275 - accuracy: 0.9897\n",
      "Epoch 60/200\n",
      "4/4 [==============================] - 0s 2ms/step - loss: 0.0523 - accuracy: 0.9794\n",
      "Epoch 61/200\n",
      "4/4 [==============================] - 0s 2ms/step - loss: 0.0684 - accuracy: 0.9794\n",
      "Epoch 62/200\n",
      "4/4 [==============================] - 0s 27ms/step - loss: 0.0752 - accuracy: 0.9691\n",
      "Epoch 63/200\n",
      "4/4 [==============================] - 0s 2ms/step - loss: 0.0195 - accuracy: 1.0000\n",
      "Epoch 64/200\n",
      "4/4 [==============================] - 0s 2ms/step - loss: 0.0518 - accuracy: 0.9691\n",
      "Epoch 65/200\n",
      "4/4 [==============================] - 0s 2ms/step - loss: 0.0339 - accuracy: 0.9897\n",
      "Epoch 66/200\n",
      "4/4 [==============================] - 0s 2ms/step - loss: 0.0223 - accuracy: 0.9897\n",
      "Epoch 67/200\n",
      "4/4 [==============================] - 0s 2ms/step - loss: 0.0519 - accuracy: 0.9794\n",
      "Epoch 68/200\n",
      "4/4 [==============================] - 0s 2ms/step - loss: 0.0294 - accuracy: 0.9897\n",
      "Epoch 69/200\n",
      "4/4 [==============================] - 0s 2ms/step - loss: 0.0591 - accuracy: 0.9691\n",
      "Epoch 70/200\n",
      "4/4 [==============================] - 0s 2ms/step - loss: 0.0800 - accuracy: 0.9897\n",
      "Epoch 71/200\n",
      "4/4 [==============================] - 0s 2ms/step - loss: 0.1033 - accuracy: 0.9691\n",
      "Epoch 72/200\n",
      "4/4 [==============================] - 0s 2ms/step - loss: 0.0372 - accuracy: 0.9897\n",
      "Epoch 73/200\n",
      "4/4 [==============================] - 0s 28ms/step - loss: 0.0461 - accuracy: 0.9897\n",
      "Epoch 74/200\n",
      "4/4 [==============================] - 0s 2ms/step - loss: 0.0346 - accuracy: 0.9897\n",
      "Epoch 75/200\n",
      "4/4 [==============================] - 0s 2ms/step - loss: 0.0746 - accuracy: 0.9897\n",
      "Epoch 76/200\n",
      "4/4 [==============================] - 0s 27ms/step - loss: 0.0129 - accuracy: 1.0000\n",
      "Epoch 77/200\n",
      "4/4 [==============================] - 0s 2ms/step - loss: 0.0672 - accuracy: 0.9691\n",
      "Epoch 78/200\n",
      "4/4 [==============================] - 0s 2ms/step - loss: 0.0062 - accuracy: 1.0000\n",
      "Epoch 79/200\n",
      "4/4 [==============================] - 0s 2ms/step - loss: 0.0448 - accuracy: 0.9794\n",
      "Epoch 80/200\n",
      "4/4 [==============================] - 0s 2ms/step - loss: 0.0244 - accuracy: 1.0000\n",
      "Epoch 81/200\n",
      "4/4 [==============================] - 0s 27ms/step - loss: 0.0479 - accuracy: 0.9897\n",
      "Epoch 82/200\n",
      "4/4 [==============================] - 0s 2ms/step - loss: 0.0322 - accuracy: 0.9897\n",
      "Epoch 83/200\n",
      "4/4 [==============================] - 0s 2ms/step - loss: 0.0106 - accuracy: 1.0000\n",
      "Epoch 84/200\n",
      "4/4 [==============================] - 0s 26ms/step - loss: 0.0310 - accuracy: 0.9897\n",
      "Epoch 85/200\n",
      "4/4 [==============================] - 0s 2ms/step - loss: 0.0117 - accuracy: 1.0000\n",
      "Epoch 86/200\n",
      "4/4 [==============================] - 0s 2ms/step - loss: 0.0175 - accuracy: 1.0000\n",
      "Epoch 87/200\n",
      "4/4 [==============================] - 0s 2ms/step - loss: 0.0936 - accuracy: 0.9691\n",
      "Epoch 88/200\n",
      "4/4 [==============================] - 0s 2ms/step - loss: 0.0535 - accuracy: 0.9897\n",
      "Epoch 89/200\n",
      "4/4 [==============================] - 0s 2ms/step - loss: 0.0750 - accuracy: 0.9897\n",
      "Epoch 90/200\n",
      "4/4 [==============================] - 0s 2ms/step - loss: 0.0528 - accuracy: 0.9897\n",
      "Epoch 91/200\n",
      "4/4 [==============================] - 0s 2ms/step - loss: 0.0851 - accuracy: 0.9794\n",
      "Epoch 92/200\n",
      "4/4 [==============================] - 0s 26ms/step - loss: 0.0237 - accuracy: 0.9897\n",
      "Epoch 93/200\n",
      "4/4 [==============================] - 0s 2ms/step - loss: 0.0221 - accuracy: 1.0000\n",
      "Epoch 94/200\n",
      "4/4 [==============================] - 0s 2ms/step - loss: 0.0622 - accuracy: 0.9691\n",
      "Epoch 95/200\n",
      "4/4 [==============================] - 0s 2ms/step - loss: 0.0324 - accuracy: 0.9897\n",
      "Epoch 96/200\n",
      "4/4 [==============================] - 0s 2ms/step - loss: 0.0714 - accuracy: 0.9691\n",
      "Epoch 97/200\n",
      "4/4 [==============================] - 0s 27ms/step - loss: 0.0266 - accuracy: 0.9897\n",
      "Epoch 98/200\n",
      "4/4 [==============================] - 0s 2ms/step - loss: 0.0212 - accuracy: 1.0000\n",
      "Epoch 99/200\n",
      "4/4 [==============================] - 0s 2ms/step - loss: 0.0297 - accuracy: 0.9897\n",
      "Epoch 100/200\n",
      "4/4 [==============================] - 0s 2ms/step - loss: 0.0281 - accuracy: 0.9897\n",
      "Epoch 101/200\n",
      "4/4 [==============================] - 0s 2ms/step - loss: 0.0610 - accuracy: 0.9691\n",
      "Epoch 102/200\n",
      "4/4 [==============================] - 0s 2ms/step - loss: 0.0206 - accuracy: 0.9897\n",
      "Epoch 103/200\n",
      "4/4 [==============================] - 0s 2ms/step - loss: 0.0219 - accuracy: 1.0000\n",
      "Epoch 104/200\n",
      "4/4 [==============================] - 0s 2ms/step - loss: 0.0092 - accuracy: 1.0000\n",
      "Epoch 105/200\n",
      "4/4 [==============================] - 0s 27ms/step - loss: 0.0387 - accuracy: 0.9897\n",
      "Epoch 106/200\n",
      "4/4 [==============================] - 0s 2ms/step - loss: 0.0244 - accuracy: 0.9897\n",
      "Epoch 107/200\n",
      "4/4 [==============================] - 0s 2ms/step - loss: 0.1413 - accuracy: 0.9485\n",
      "Epoch 108/200\n",
      "4/4 [==============================] - 0s 2ms/step - loss: 0.0281 - accuracy: 0.9897\n",
      "Epoch 109/200\n",
      "4/4 [==============================] - 0s 2ms/step - loss: 0.0344 - accuracy: 0.9897\n",
      "Epoch 110/200\n",
      "4/4 [==============================] - 0s 2ms/step - loss: 0.0902 - accuracy: 0.9794\n",
      "Epoch 111/200\n",
      "4/4 [==============================] - 0s 2ms/step - loss: 0.0478 - accuracy: 0.9897\n",
      "Epoch 112/200\n",
      "4/4 [==============================] - 0s 2ms/step - loss: 0.0731 - accuracy: 0.9691\n",
      "Epoch 113/200\n",
      "4/4 [==============================] - 0s 27ms/step - loss: 0.1152 - accuracy: 0.9588\n",
      "Epoch 114/200\n",
      "4/4 [==============================] - 0s 2ms/step - loss: 0.0298 - accuracy: 0.9897\n",
      "Epoch 115/200\n",
      "4/4 [==============================] - 0s 2ms/step - loss: 0.0269 - accuracy: 0.9897\n",
      "Epoch 116/200\n",
      "4/4 [==============================] - 0s 2ms/step - loss: 0.0188 - accuracy: 1.0000\n",
      "Epoch 117/200\n",
      "4/4 [==============================] - 0s 2ms/step - loss: 0.0090 - accuracy: 1.0000\n",
      "Epoch 118/200\n",
      "4/4 [==============================] - 0s 27ms/step - loss: 0.0077 - accuracy: 1.0000\n",
      "Epoch 119/200\n",
      "4/4 [==============================] - 0s 2ms/step - loss: 0.0138 - accuracy: 1.0000\n",
      "Epoch 120/200\n",
      "4/4 [==============================] - 0s 2ms/step - loss: 0.0043 - accuracy: 1.0000\n",
      "Epoch 121/200\n",
      "4/4 [==============================] - 0s 27ms/step - loss: 0.0134 - accuracy: 0.9897\n",
      "Epoch 122/200\n",
      "4/4 [==============================] - 0s 2ms/step - loss: 0.0713 - accuracy: 0.9794\n",
      "Epoch 123/200\n",
      "4/4 [==============================] - 0s 27ms/step - loss: 0.0156 - accuracy: 1.0000\n",
      "Epoch 124/200\n",
      "4/4 [==============================] - 0s 2ms/step - loss: 0.0113 - accuracy: 0.9897\n",
      "Epoch 125/200\n",
      "4/4 [==============================] - 0s 2ms/step - loss: 0.0303 - accuracy: 0.9897\n",
      "Epoch 126/200\n",
      "4/4 [==============================] - 0s 2ms/step - loss: 0.0165 - accuracy: 1.0000\n",
      "Epoch 127/200\n",
      "4/4 [==============================] - 0s 2ms/step - loss: 0.0046 - accuracy: 1.0000\n",
      "Epoch 128/200\n",
      "4/4 [==============================] - 0s 2ms/step - loss: 0.0130 - accuracy: 0.9897\n",
      "Epoch 129/200\n",
      "4/4 [==============================] - 0s 2ms/step - loss: 0.0339 - accuracy: 0.9897\n",
      "Epoch 130/200\n",
      "4/4 [==============================] - 0s 4ms/step - loss: 0.0032 - accuracy: 1.0000\n",
      "Epoch 131/200\n",
      "4/4 [==============================] - 0s 25ms/step - loss: 0.0062 - accuracy: 1.0000\n",
      "Epoch 132/200\n",
      "4/4 [==============================] - 0s 2ms/step - loss: 0.0203 - accuracy: 0.9897\n",
      "Epoch 133/200\n",
      "4/4 [==============================] - 0s 28ms/step - loss: 0.0097 - accuracy: 1.0000\n",
      "Epoch 134/200\n",
      "4/4 [==============================] - 0s 2ms/step - loss: 0.0119 - accuracy: 1.0000\n",
      "Epoch 135/200\n",
      "4/4 [==============================] - 0s 28ms/step - loss: 0.0187 - accuracy: 0.9897\n",
      "Epoch 136/200\n",
      "4/4 [==============================] - 0s 2ms/step - loss: 0.0533 - accuracy: 0.9897\n",
      "Epoch 137/200\n",
      "4/4 [==============================] - 0s 2ms/step - loss: 0.0215 - accuracy: 1.0000\n",
      "Epoch 138/200\n",
      "4/4 [==============================] - 0s 27ms/step - loss: 0.2131 - accuracy: 0.9691\n",
      "Epoch 139/200\n",
      "4/4 [==============================] - 0s 2ms/step - loss: 0.3114 - accuracy: 0.9485\n",
      "Epoch 140/200\n",
      "4/4 [==============================] - 0s 2ms/step - loss: 0.1016 - accuracy: 0.9588\n",
      "Epoch 141/200\n",
      "4/4 [==============================] - 0s 27ms/step - loss: 0.0363 - accuracy: 0.9794\n",
      "Epoch 142/200\n",
      "4/4 [==============================] - 0s 2ms/step - loss: 0.0136 - accuracy: 1.0000\n",
      "Epoch 143/200\n",
      "4/4 [==============================] - 0s 27ms/step - loss: 0.0713 - accuracy: 0.9794\n",
      "Epoch 144/200\n",
      "4/4 [==============================] - 0s 2ms/step - loss: 0.1555 - accuracy: 0.9588\n",
      "Epoch 145/200\n",
      "4/4 [==============================] - 0s 2ms/step - loss: 0.0214 - accuracy: 0.9897\n",
      "Epoch 146/200\n",
      "4/4 [==============================] - 0s 2ms/step - loss: 0.0612 - accuracy: 0.9897\n",
      "Epoch 147/200\n",
      "4/4 [==============================] - 0s 2ms/step - loss: 0.0071 - accuracy: 1.0000\n",
      "Epoch 148/200\n",
      "4/4 [==============================] - 0s 27ms/step - loss: 0.0274 - accuracy: 0.9897\n",
      "Epoch 149/200\n",
      "4/4 [==============================] - 0s 2ms/step - loss: 0.1674 - accuracy: 0.9588\n",
      "Epoch 150/200\n",
      "4/4 [==============================] - 0s 2ms/step - loss: 0.1102 - accuracy: 0.9691\n",
      "Epoch 151/200\n",
      "4/4 [==============================] - 0s 26ms/step - loss: 0.1373 - accuracy: 0.9691\n",
      "Epoch 152/200\n",
      "4/4 [==============================] - 0s 2ms/step - loss: 0.0373 - accuracy: 0.9794\n",
      "Epoch 153/200\n",
      "4/4 [==============================] - 0s 28ms/step - loss: 0.0063 - accuracy: 1.0000\n",
      "Epoch 154/200\n",
      "4/4 [==============================] - 0s 2ms/step - loss: 0.0699 - accuracy: 0.9897\n",
      "Epoch 155/200\n",
      "4/4 [==============================] - 0s 2ms/step - loss: 0.0238 - accuracy: 0.9897\n",
      "Epoch 156/200\n",
      "4/4 [==============================] - 0s 26ms/step - loss: 0.0245 - accuracy: 1.0000\n",
      "Epoch 157/200\n",
      "4/4 [==============================] - 0s 2ms/step - loss: 0.0601 - accuracy: 0.9794\n",
      "Epoch 158/200\n",
      "4/4 [==============================] - 0s 27ms/step - loss: 0.0027 - accuracy: 1.0000\n",
      "Epoch 159/200\n",
      "4/4 [==============================] - 0s 2ms/step - loss: 0.0353 - accuracy: 0.9897\n",
      "Epoch 160/200\n",
      "4/4 [==============================] - 0s 2ms/step - loss: 0.0071 - accuracy: 1.0000\n",
      "Epoch 161/200\n",
      "4/4 [==============================] - 0s 2ms/step - loss: 0.0886 - accuracy: 0.9794\n",
      "Epoch 162/200\n",
      "4/4 [==============================] - 0s 2ms/step - loss: 0.0300 - accuracy: 0.9794\n",
      "Epoch 163/200\n",
      "4/4 [==============================] - 0s 2ms/step - loss: 0.0216 - accuracy: 0.9897\n",
      "Epoch 164/200\n",
      "4/4 [==============================] - 0s 2ms/step - loss: 0.0043 - accuracy: 1.0000\n",
      "Epoch 165/200\n",
      "4/4 [==============================] - 0s 2ms/step - loss: 0.0333 - accuracy: 0.9897\n",
      "Epoch 166/200\n",
      "4/4 [==============================] - 0s 27ms/step - loss: 0.0075 - accuracy: 1.0000\n",
      "Epoch 167/200\n",
      "4/4 [==============================] - 0s 2ms/step - loss: 0.0069 - accuracy: 1.0000\n",
      "Epoch 168/200\n",
      "4/4 [==============================] - 0s 2ms/step - loss: 0.0303 - accuracy: 0.9897\n",
      "Epoch 169/200\n",
      "4/4 [==============================] - 0s 27ms/step - loss: 0.0904 - accuracy: 0.9588\n",
      "Epoch 170/200\n",
      "4/4 [==============================] - 0s 2ms/step - loss: 0.0035 - accuracy: 1.0000\n",
      "Epoch 171/200\n",
      "4/4 [==============================] - 0s 2ms/step - loss: 0.0020 - accuracy: 1.0000\n",
      "Epoch 172/200\n",
      "4/4 [==============================] - 0s 2ms/step - loss: 0.0766 - accuracy: 0.9897\n",
      "Epoch 173/200\n",
      "4/4 [==============================] - 0s 2ms/step - loss: 0.0404 - accuracy: 0.9897\n",
      "Epoch 174/200\n",
      "4/4 [==============================] - 0s 2ms/step - loss: 0.0096 - accuracy: 1.0000\n",
      "Epoch 175/200\n",
      "4/4 [==============================] - 0s 2ms/step - loss: 0.0331 - accuracy: 0.9897\n",
      "Epoch 176/200\n",
      "4/4 [==============================] - 0s 2ms/step - loss: 0.0748 - accuracy: 0.9794\n",
      "Epoch 177/200\n",
      "4/4 [==============================] - 0s 28ms/step - loss: 0.0662 - accuracy: 0.9691\n",
      "Epoch 178/200\n",
      "4/4 [==============================] - 0s 2ms/step - loss: 0.0980 - accuracy: 0.9794\n",
      "Epoch 179/200\n",
      "4/4 [==============================] - 0s 2ms/step - loss: 0.0018 - accuracy: 1.0000\n",
      "Epoch 180/200\n",
      "4/4 [==============================] - 0s 2ms/step - loss: 0.0337 - accuracy: 0.9897\n",
      "Epoch 181/200\n",
      "4/4 [==============================] - 0s 2ms/step - loss: 0.0341 - accuracy: 0.9794\n",
      "Epoch 182/200\n",
      "4/4 [==============================] - 0s 27ms/step - loss: 0.0173 - accuracy: 0.9897\n",
      "Epoch 183/200\n",
      "4/4 [==============================] - 0s 2ms/step - loss: 0.0120 - accuracy: 0.9897\n",
      "Epoch 184/200\n",
      "4/4 [==============================] - 0s 27ms/step - loss: 0.0929 - accuracy: 0.9588\n",
      "Epoch 185/200\n",
      "4/4 [==============================] - 0s 2ms/step - loss: 0.0137 - accuracy: 1.0000\n",
      "Epoch 186/200\n",
      "4/4 [==============================] - 0s 2ms/step - loss: 0.1893 - accuracy: 0.9794\n",
      "Epoch 187/200\n",
      "4/4 [==============================] - 0s 2ms/step - loss: 0.0029 - accuracy: 1.0000\n",
      "Epoch 188/200\n",
      "4/4 [==============================] - 0s 2ms/step - loss: 0.0395 - accuracy: 0.9897\n",
      "Epoch 189/200\n",
      "4/4 [==============================] - 0s 2ms/step - loss: 0.0139 - accuracy: 1.0000\n",
      "Epoch 190/200\n",
      "4/4 [==============================] - 0s 2ms/step - loss: 0.0127 - accuracy: 1.0000\n",
      "Epoch 191/200\n",
      "4/4 [==============================] - 0s 2ms/step - loss: 0.0093 - accuracy: 1.0000\n",
      "Epoch 192/200\n",
      "4/4 [==============================] - 0s 2ms/step - loss: 0.0112 - accuracy: 0.9897\n",
      "Epoch 193/200\n",
      "4/4 [==============================] - 0s 2ms/step - loss: 0.1170 - accuracy: 0.9794\n",
      "Epoch 194/200\n",
      "4/4 [==============================] - 0s 2ms/step - loss: 0.0074 - accuracy: 1.0000\n",
      "Epoch 195/200\n",
      "4/4 [==============================] - 0s 27ms/step - loss: 0.0476 - accuracy: 0.9897\n",
      "Epoch 196/200\n",
      "4/4 [==============================] - 0s 2ms/step - loss: 0.0596 - accuracy: 0.9691\n",
      "Epoch 197/200\n",
      "4/4 [==============================] - 0s 2ms/step - loss: 0.0435 - accuracy: 0.9897\n",
      "Epoch 198/200\n",
      "4/4 [==============================] - 0s 27ms/step - loss: 0.0303 - accuracy: 0.9794\n",
      "Epoch 199/200\n",
      "4/4 [==============================] - 0s 2ms/step - loss: 0.0044 - accuracy: 1.0000\n",
      "Epoch 200/200\n",
      "4/4 [==============================] - 0s 2ms/step - loss: 0.0139 - accuracy: 0.9897\n"
     ]
    },
    {
     "data": {
      "text/plain": [
       "<keras.callbacks.History at 0x7fb1fc4bae80>"
      ]
     },
     "execution_count": 45,
     "metadata": {},
     "output_type": "execute_result"
    }
   ],
   "source": [
    "# entraînement du modèle\n",
    "model.fit(x=train_X, y=train_y, epochs=200, verbose=1)"
   ]
  },
  {
   "cell_type": "code",
   "execution_count": 46,
   "metadata": {
    "id": "UWOlS2VtTB93"
   },
   "outputs": [],
   "source": [
    "def clean_text(text): \n",
    "  tokens = nltk.word_tokenize(text)\n",
    "  tokens = [lemmatizer.lemmatize(word) for word in tokens]\n",
    "  return tokens\n",
    "\n",
    "def bag_of_words(text, vocab): \n",
    "  tokens = clean_text(text)\n",
    "  bow = [0] * len(vocab)\n",
    "  for w in tokens: \n",
    "    for idx, word in enumerate(vocab):\n",
    "      if word == w: \n",
    "        bow[idx] = 1\n",
    "  return np.array(bow)\n",
    "\n",
    "def pred_class(text, vocab, labels): \n",
    "  bow = bag_of_words(text, vocab)\n",
    "  result = model.predict(np.array([bow]))[0]\n",
    "  thresh = 0.2\n",
    "  y_pred = [[idx, res] for idx, res in enumerate(result) if res > thresh]\n",
    "\n",
    "  y_pred.sort(key=lambda x: x[1], reverse=True)\n",
    "  return_list = []\n",
    "  for r in y_pred:\n",
    "    return_list.append(labels[r[0]])\n",
    "  return return_list\n",
    "\n",
    "def get_response(intents_list, intents_json): \n",
    "  tag = intents_list[0]\n",
    "  list_of_intents = intents_json[\"intents\"]\n",
    "  for i in list_of_intents: \n",
    "    if i[\"tag\"] == tag:\n",
    "      result = random.choice(i[\"responses\"])\n",
    "      break\n",
    "  return result"
   ]
  },
  {
   "cell_type": "code",
   "execution_count": 47,
   "metadata": {
    "id": "GE9xqaoPTN1P"
   },
   "outputs": [
    {
     "name": "stdout",
     "output_type": "stream",
     "text": [
      " hi\n"
     ]
    },
    {
     "name": "stdout",
     "output_type": "stream",
     "text": [
      "Ok, I am with you.\n"
     ]
    },
    {
     "name": "stdout",
     "output_type": "stream",
     "text": [
      " who are you\n"
     ]
    },
    {
     "name": "stdout",
     "output_type": "stream",
     "text": [
      "That would be you Mr. ASLAN.\n"
     ]
    },
    {
     "name": "stdout",
     "output_type": "stream",
     "text": [
      " what*\n"
     ]
    },
    {
     "name": "stdout",
     "output_type": "stream",
     "text": [
      "I can do whatever you asks me to do\n"
     ]
    },
    {
     "name": "stdout",
     "output_type": "stream",
     "text": [
      " can you kill someone\n"
     ]
    },
    {
     "name": "stdout",
     "output_type": "stream",
     "text": [
      "I can do whatever you asks me to do\n"
     ]
    },
    {
     "ename": "KeyboardInterrupt",
     "evalue": "Interrupted by user",
     "output_type": "error",
     "traceback": [
      "\u001b[0;31m---------------------------------------------------------------------------\u001b[0m",
      "\u001b[0;31mKeyboardInterrupt\u001b[0m                         Traceback (most recent call last)",
      "Cell \u001b[0;32mIn [47], line 3\u001b[0m\n\u001b[1;32m      1\u001b[0m \u001b[38;5;66;03m# lancement du chatbot\u001b[39;00m\n\u001b[1;32m      2\u001b[0m \u001b[38;5;28;01mwhile\u001b[39;00m \u001b[38;5;28;01mTrue\u001b[39;00m:\n\u001b[0;32m----> 3\u001b[0m     message \u001b[38;5;241m=\u001b[39m \u001b[38;5;28minput\u001b[39m(\u001b[38;5;124m\"\u001b[39m\u001b[38;5;124m\"\u001b[39m)\n\u001b[1;32m      4\u001b[0m     intents \u001b[38;5;241m=\u001b[39m pred_class(message, words, classes)\n\u001b[1;32m      5\u001b[0m     result \u001b[38;5;241m=\u001b[39m get_response(intents, data)\n",
      "File \u001b[0;32m~/.miniconda3/lib/python3.9/site-packages/ipykernel/kernelbase.py:1177\u001b[0m, in \u001b[0;36mKernel.raw_input\u001b[0;34m(self, prompt)\u001b[0m\n\u001b[1;32m   1173\u001b[0m \u001b[38;5;28;01mif\u001b[39;00m \u001b[38;5;129;01mnot\u001b[39;00m \u001b[38;5;28mself\u001b[39m\u001b[38;5;241m.\u001b[39m_allow_stdin:\n\u001b[1;32m   1174\u001b[0m     \u001b[38;5;28;01mraise\u001b[39;00m StdinNotImplementedError(\n\u001b[1;32m   1175\u001b[0m         \u001b[38;5;124m\"\u001b[39m\u001b[38;5;124mraw_input was called, but this frontend does not support input requests.\u001b[39m\u001b[38;5;124m\"\u001b[39m\n\u001b[1;32m   1176\u001b[0m     )\n\u001b[0;32m-> 1177\u001b[0m \u001b[38;5;28;01mreturn\u001b[39;00m \u001b[38;5;28;43mself\u001b[39;49m\u001b[38;5;241;43m.\u001b[39;49m\u001b[43m_input_request\u001b[49m\u001b[43m(\u001b[49m\n\u001b[1;32m   1178\u001b[0m \u001b[43m    \u001b[49m\u001b[38;5;28;43mstr\u001b[39;49m\u001b[43m(\u001b[49m\u001b[43mprompt\u001b[49m\u001b[43m)\u001b[49m\u001b[43m,\u001b[49m\n\u001b[1;32m   1179\u001b[0m \u001b[43m    \u001b[49m\u001b[38;5;28;43mself\u001b[39;49m\u001b[38;5;241;43m.\u001b[39;49m\u001b[43m_parent_ident\u001b[49m\u001b[43m[\u001b[49m\u001b[38;5;124;43m\"\u001b[39;49m\u001b[38;5;124;43mshell\u001b[39;49m\u001b[38;5;124;43m\"\u001b[39;49m\u001b[43m]\u001b[49m\u001b[43m,\u001b[49m\n\u001b[1;32m   1180\u001b[0m \u001b[43m    \u001b[49m\u001b[38;5;28;43mself\u001b[39;49m\u001b[38;5;241;43m.\u001b[39;49m\u001b[43mget_parent\u001b[49m\u001b[43m(\u001b[49m\u001b[38;5;124;43m\"\u001b[39;49m\u001b[38;5;124;43mshell\u001b[39;49m\u001b[38;5;124;43m\"\u001b[39;49m\u001b[43m)\u001b[49m\u001b[43m,\u001b[49m\n\u001b[1;32m   1181\u001b[0m \u001b[43m    \u001b[49m\u001b[43mpassword\u001b[49m\u001b[38;5;241;43m=\u001b[39;49m\u001b[38;5;28;43;01mFalse\u001b[39;49;00m\u001b[43m,\u001b[49m\n\u001b[1;32m   1182\u001b[0m \u001b[43m\u001b[49m\u001b[43m)\u001b[49m\n",
      "File \u001b[0;32m~/.miniconda3/lib/python3.9/site-packages/ipykernel/kernelbase.py:1219\u001b[0m, in \u001b[0;36mKernel._input_request\u001b[0;34m(self, prompt, ident, parent, password)\u001b[0m\n\u001b[1;32m   1216\u001b[0m             \u001b[38;5;28;01mbreak\u001b[39;00m\n\u001b[1;32m   1217\u001b[0m \u001b[38;5;28;01mexcept\u001b[39;00m \u001b[38;5;167;01mKeyboardInterrupt\u001b[39;00m:\n\u001b[1;32m   1218\u001b[0m     \u001b[38;5;66;03m# re-raise KeyboardInterrupt, to truncate traceback\u001b[39;00m\n\u001b[0;32m-> 1219\u001b[0m     \u001b[38;5;28;01mraise\u001b[39;00m \u001b[38;5;167;01mKeyboardInterrupt\u001b[39;00m(\u001b[38;5;124m\"\u001b[39m\u001b[38;5;124mInterrupted by user\u001b[39m\u001b[38;5;124m\"\u001b[39m) \u001b[38;5;28;01mfrom\u001b[39;00m \u001b[38;5;28mNone\u001b[39m\n\u001b[1;32m   1220\u001b[0m \u001b[38;5;28;01mexcept\u001b[39;00m \u001b[38;5;167;01mException\u001b[39;00m:\n\u001b[1;32m   1221\u001b[0m     \u001b[38;5;28mself\u001b[39m\u001b[38;5;241m.\u001b[39mlog\u001b[38;5;241m.\u001b[39mwarning(\u001b[38;5;124m\"\u001b[39m\u001b[38;5;124mInvalid Message:\u001b[39m\u001b[38;5;124m\"\u001b[39m, exc_info\u001b[38;5;241m=\u001b[39m\u001b[38;5;28;01mTrue\u001b[39;00m)\n",
      "\u001b[0;31mKeyboardInterrupt\u001b[0m: Interrupted by user"
     ]
    },
    {
     "name": "stdout",
     "output_type": "stream",
     "text": [
      " \n"
     ]
    }
   ],
   "source": [
    "# lancement du chatbot\n",
    "while True:\n",
    "    message = input(\"\")\n",
    "    intents = pred_class(message, words, classes)\n",
    "    result = get_response(intents, data)\n",
    "    print(result)"
   ]
  },
  {
   "cell_type": "code",
   "execution_count": null,
   "metadata": {},
   "outputs": [],
   "source": []
  }
 ],
 "metadata": {
  "colab": {
   "provenance": []
  },
  "kernelspec": {
   "display_name": "Tensorflow 2.8",
   "language": "python",
   "name": "python3"
  },
  "language_info": {
   "codemirror_mode": {
    "name": "ipython",
    "version": 3
   },
   "file_extension": ".py",
   "mimetype": "text/x-python",
   "name": "python",
   "nbconvert_exporter": "python",
   "pygments_lexer": "ipython3",
   "version": "3.9.5"
  }
 },
 "nbformat": 4,
 "nbformat_minor": 4
}
